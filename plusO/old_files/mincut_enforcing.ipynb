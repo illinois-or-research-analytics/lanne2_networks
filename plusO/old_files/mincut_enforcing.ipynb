{
 "cells": [
  {
   "cell_type": "code",
   "execution_count": 11,
   "metadata": {},
   "outputs": [],
   "source": [
    "import pandas as pd\n",
    "import numpy as np\n",
    "import matplotlib.pyplot as plt\n",
    "import stats\n",
    "from scipy.sparse import dok_matrix\n",
    "import networkit as nk\n",
    "import time\n",
    "import ast\n",
    "from pymincut.pygraph import PyGraph\n",
    "\n",
    "import warnings\n",
    "warnings.filterwarnings(\"ignore\")\n",
    "from collections import defaultdict"
   ]
  },
  {
   "cell_type": "code",
   "execution_count": 12,
   "metadata": {},
   "outputs": [],
   "source": [
    "# Read the network\n",
    "def readGraph(input_network, input_clustering, required_cluster_stats):\n",
    "    # Read the clustering\n",
    "    cluster_df = pd.read_csv(input_clustering, sep=\"\\t\", header=None, names=[\n",
    "                             \"node_id\", \"cluster_name\"], dtype=str)\n",
    "    \n",
    "    # Read required cluster stats\n",
    "    cluster_stats_df = pd.read_csv(required_cluster_stats)\n",
    "\n",
    "    # Read the network\n",
    "    elr = nk.graphio.EdgeListReader('\\t', 0, continuous=False, directed=False)\n",
    "    graph = elr.read(input_network)\n",
    "    graph.removeMultiEdges()\n",
    "    graph.removeSelfLoops()\n",
    "    node_mapping_dict = elr.getNodeMap()\n",
    "    # node_mapping_dict_reversed = {v: k for k, v in node_mapping_dict.items()}\n",
    "\n",
    "    return graph, node_mapping_dict, cluster_df, cluster_stats_df\n"
   ]
  },
  {
   "cell_type": "code",
   "execution_count": 126,
   "metadata": {},
   "outputs": [],
   "source": [
    "edge_list = '/Users/laharianne/Desktop/Research/lanne2_networks/plusO/SBM_OutlierCluster_samples/cit_patents/N_graph_edge_list.tsv'\n",
    "clustering_file = '/Users/laharianne/Desktop/Research/lanne2_networks/Datasets/leidenClustering/cit_patents-leiden-empirical/leiden_res0.01_i2/S6_cit_patents_leiden.res0.01_i2_post_cm_filter.R.tsv'\n",
    "required_cluster_stats = '/Users/laharianne/Desktop/Research/network_evaluation/imagine_something_like_this/cit_patents_input_stats/cluster_stats.csv'\n",
    "graph, node_mapping, cluster_df,cluster_stats_df = readGraph(edge_list, clustering_file,required_cluster_stats)\n"
   ]
  },
  {
   "cell_type": "code",
   "execution_count": 127,
   "metadata": {},
   "outputs": [
    {
     "name": "stdout",
     "output_type": "stream",
     "text": [
      "3774768\n",
      "15724960\n"
     ]
    }
   ],
   "source": [
    "print(graph.numberOfNodes())\n",
    "print(graph.numberOfEdges())"
   ]
  },
  {
   "cell_type": "code",
   "execution_count": 129,
   "metadata": {},
   "outputs": [],
   "source": [
    "clustering_dict = dict(\n",
    "        zip(\n",
    "            cluster_df['node_id'],\n",
    "            cluster_df['cluster_name'],\n",
    "        )\n",
    "    )\n",
    "#clustering_dict  = {node_id : cluster_id}\n",
    "\n",
    "cluster_node_mapping = defaultdict(set)\n",
    "for node, cluster in clustering_dict.items():\n",
    "    cluster_node_mapping[cluster].add(node_mapping[node])\n",
    "\n",
    "#cluster_node_mapping  = {cluster_id : set(node_iid)}\n",
    "\n"
   ]
  },
  {
   "cell_type": "code",
   "execution_count": 130,
   "metadata": {},
   "outputs": [],
   "source": [
    "def remove_edges(G_c, edges_to_remove):\n",
    "    for edge in edges_to_remove:\n",
    "        G_c.removeEdge(edge[0], edge[1])"
   ]
  },
  {
   "cell_type": "code",
   "execution_count": 131,
   "metadata": {},
   "outputs": [
    {
     "name": "stdout",
     "output_type": "stream",
     "text": [
      "11122511\n",
      "6344577\n"
     ]
    }
   ],
   "source": [
    "clustered_nodes = [node_mapping[v] for v in clustering_dict.keys()]\n",
    "G_c = nk.graphtools.subgraphFromNodes(graph, clustered_nodes)\n",
    "\n",
    "edges_to_remove = []\n",
    "clustered_nodes_set = set(clustered_nodes)\n",
    "# node_mapping = {node_id : node_iid}\n",
    "# node_mapping_reversed = {node_iid : node_id}\n",
    "node_mapping_reversed = {u:str(v) for v,u in node_mapping.items()}\n",
    "for edge in G_c.iterEdges():\n",
    "    if clustering_dict[node_mapping_reversed[edge[0]]] != clustering_dict[node_mapping_reversed[edge[1]]]:\n",
    "        edges_to_remove.append(edge)\n",
    "\n",
    "print(G_c.numberOfEdges())\n",
    "remove_edges(G_c, edges_to_remove)\n",
    "print(G_c.numberOfEdges())\n"
   ]
  },
  {
   "cell_type": "code",
   "execution_count": 132,
   "metadata": {},
   "outputs": [
    {
     "name": "stdout",
     "output_type": "stream",
     "text": [
      "1000\n",
      "2000\n",
      "3000\n",
      "4000\n",
      "5000\n",
      "6000\n",
      "7000\n",
      "8000\n",
      "9000\n",
      "10000\n",
      "11000\n",
      "12000\n",
      "13000\n",
      "14000\n",
      "15000\n",
      "16000\n",
      "17000\n",
      "18000\n",
      "19000\n",
      "20000\n",
      "21000\n",
      "22000\n",
      "23000\n",
      "24000\n",
      "25000\n",
      "26000\n",
      "27000\n",
      "28000\n",
      "29000\n",
      "30000\n",
      "31000\n",
      "32000\n",
      "33000\n",
      "34000\n",
      "35000\n",
      "36000\n",
      "37000\n",
      "38000\n",
      "39000\n",
      "40000\n",
      "41000\n",
      "42000\n",
      "43000\n",
      "44000\n",
      "45000\n",
      "46000\n",
      "47000\n",
      "48000\n",
      "49000\n",
      "50000\n",
      "51000\n",
      "52000\n",
      "53000\n",
      "54000\n"
     ]
    }
   ],
   "source": [
    "# Ensuring minimum degree:\n",
    "total_actual_cluster_edges = 0\n",
    "cluster_count = 0\n",
    "total_edges = 0\n",
    "node_count = 0\n",
    "for cluster_id in cluster_node_mapping.keys():\n",
    "    # nodes = [node_mapping[v] for v in cluster_df[cluster_df['cluster_name']==cluster_id]['node_id']]\n",
    "    nodes = list(cluster_node_mapping[cluster_id])\n",
    "    # sub_graph = nk.graphtools.subgraphFromNodes(graph,nodes)\n",
    "    # total_actual_cluster_edges += sub_graph.numberOfEdges()\n",
    "\n",
    "    min_cut_required = int(cluster_stats_df[cluster_stats_df['cluster']==cluster_id]['connectivity'])\n",
    "    \n",
    "    \n",
    "    for node in nodes:\n",
    "        node_deg = G_c.degree(node)\n",
    "        if node_deg<min_cut_required:\n",
    "            node_count += 1\n",
    "            deg_diff  = min_cut_required - node_deg\n",
    "            total_edges += deg_diff\n",
    "            selected = set()\n",
    "            selected.add(node)\n",
    "            while deg_diff>0:\n",
    "                idx = np.random.choice(len(nodes), 1)\n",
    "                edge_end = nodes[idx[0]]\n",
    "                if edge_end not in selected:\n",
    "                    G_c.addEdge(node, edge_end)\n",
    "                    selected.add(edge_end)\n",
    "                    deg_diff -= 1\n",
    "\n",
    "    cluster_count += 1\n",
    "    if cluster_count%1000 ==0:\n",
    "        print(cluster_count)\n",
    "\n",
    "\n"
   ]
  },
  {
   "cell_type": "code",
   "execution_count": 133,
   "metadata": {},
   "outputs": [
    {
     "name": "stdout",
     "output_type": "stream",
     "text": [
      "292112\n",
      "0\n",
      "234475\n"
     ]
    }
   ],
   "source": [
    "print(total_edges)\n",
    "print(total_actual_cluster_edges)\n",
    "print(node_count)"
   ]
  },
  {
   "cell_type": "code",
   "execution_count": 135,
   "metadata": {},
   "outputs": [
    {
     "name": "stdout",
     "output_type": "stream",
     "text": [
      "3774768\n",
      "15724960\n",
      "2065327\n",
      "6636689\n"
     ]
    }
   ],
   "source": [
    "print(graph.numberOfNodes())\n",
    "print(graph.numberOfEdges())\n",
    "print(G_c.numberOfNodes())\n",
    "print(G_c.numberOfEdges())"
   ]
  },
  {
   "cell_type": "code",
   "execution_count": 136,
   "metadata": {},
   "outputs": [
    {
     "ename": "KeyboardInterrupt",
     "evalue": "",
     "output_type": "error",
     "traceback": [
      "\u001b[0;31m---------------------------------------------------------------------------\u001b[0m",
      "\u001b[0;31mKeyboardInterrupt\u001b[0m                         Traceback (most recent call last)",
      "Cell \u001b[0;32mIn[136], line 50\u001b[0m\n\u001b[1;32m     45\u001b[0m             cluster_nodes_copy \u001b[39m=\u001b[39m cluster_nodes_copy \u001b[39m-\u001b[39m \u001b[39mset\u001b[39m([n1])\n\u001b[1;32m     46\u001b[0m \u001b[39m# print(new_edges)\u001b[39;00m\n\u001b[1;32m     47\u001b[0m \n\u001b[1;32m     48\u001b[0m \u001b[39m# print(\"End of while loop!\")\u001b[39;00m\n\u001b[1;32m     49\u001b[0m \u001b[39m# nodes = [node_mapping[v] for v in cluster_df[cluster_df['cluster_name']==cluster_id]['node_id']]\u001b[39;00m\n\u001b[0;32m---> 50\u001b[0m sub_graph \u001b[39m=\u001b[39m nk\u001b[39m.\u001b[39;49mgraphtools\u001b[39m.\u001b[39;49msubgraphFromNodes(graph,nodes)\n\u001b[1;32m     51\u001b[0m \u001b[39m# cluster_nodes = list(sub_graph.iterNodes())\u001b[39;00m\n\u001b[1;32m     52\u001b[0m \n\u001b[1;32m     53\u001b[0m \u001b[39m# print(\"Cluster nodes = \", len(cluster_nodes), \" Number of edges : \", sub_graph.numberOfEdges())\u001b[39;00m\n\u001b[1;32m     54\u001b[0m cluster_edges \u001b[39m=\u001b[39m \u001b[39mlist\u001b[39m(sub_graph\u001b[39m.\u001b[39miterEdges())\n",
      "\u001b[0;31mKeyboardInterrupt\u001b[0m: "
     ]
    }
   ],
   "source": [
    "cluster_ids = list(cluster_df['cluster_name'].unique())\n",
    "# cluster_ids = [\"0\"]\n",
    "for cluster_id in cluster_ids:\n",
    "    # print(cluster_id)\n",
    "    # nodes = [node_mapping[v] for v in cluster_df[cluster_df['cluster_name']==cluster_id]['node_id']]\n",
    "    nodes = list(cluster_node_mapping[cluster_id])\n",
    "\n",
    "    sub_graph = nk.graphtools.subgraphFromNodes(graph,nodes)\n",
    "    cluster_nodes = list(sub_graph.iterNodes())\n",
    "    # print(\"Cluster nodes = \", len(cluster_nodes))\n",
    "    cluster_edges = list(sub_graph.iterEdges())\n",
    "    min_cut_required = int(cluster_stats_df[cluster_stats_df['cluster']==cluster_id]['connectivity'])\n",
    "\n",
    "    G = PyGraph(cluster_nodes, cluster_edges)\n",
    "    mincut_result = G.mincut(\"cactus\", \"bqueue\", True)\n",
    "\n",
    "    partitions = mincut_result[:-1]\n",
    "    cut_size = mincut_result[-1]\n",
    "    count = 0\n",
    "    cluster_nodes_copy = set(cluster_nodes.copy())\n",
    "    while cut_size < min_cut_required and count<20:\n",
    "        # if count>10:\n",
    "        #     print(\"Cluster_id : \" , cluster_id)\n",
    "        #     # print(\"Current cut size: \", cut_size, \"Number of cluster edges : \", len(cluster_edges))\n",
    "        #     # sorted_partitions = sorted(partitions, key=lambda x: len(x), reverse=True)\n",
    "        #     # larget_partition = sorted_partitions[0]\n",
    "        #     # remaining_partitions = sorted_partitions[1:]\n",
    "        #     # print([len(partition) for partition in partitions], remaining_partitions)\n",
    "        #     break\n",
    "        \n",
    "        new_edges = []\n",
    "        for i in range(len(partitions)):\n",
    "            part_nodes = set.intersection(set(partitions[i]), cluster_nodes_copy)\n",
    "            part_nodes_list = list(part_nodes)\n",
    "            remaining_nodes = list(cluster_nodes_copy - part_nodes)\n",
    "            if len(remaining_nodes)>0 and len(part_nodes)>0:\n",
    "                node_idxs = np.random.choice(len(remaining_nodes), (min_cut_required-cut_size))\n",
    "                for j in node_idxs:\n",
    "                    part_node_idx = np.random.choice(len(part_nodes), 1)\n",
    "                    n1 = int(part_nodes_list[part_node_idx[0]])\n",
    "                    n2 = int(remaining_nodes[j])\n",
    "                    # new_edges.append((n1,n2))\n",
    "                    # cluster_edges.append((n1,n2))\n",
    "                    graph.addEdge(n1,n2)\n",
    "                    cluster_nodes_copy = cluster_nodes_copy - set([n1])\n",
    "        # print(new_edges)\n",
    "\n",
    "        # print(\"End of while loop!\")\n",
    "        # nodes = [node_mapping[v] for v in cluster_df[cluster_df['cluster_name']==cluster_id]['node_id']]\n",
    "        sub_graph = nk.graphtools.subgraphFromNodes(graph,nodes)\n",
    "        # cluster_nodes = list(sub_graph.iterNodes())\n",
    "\n",
    "        # print(\"Cluster nodes = \", len(cluster_nodes), \" Number of edges : \", sub_graph.numberOfEdges())\n",
    "        cluster_edges = list(sub_graph.iterEdges())\n",
    "        new_G = PyGraph(cluster_nodes, cluster_edges)\n",
    "        new_mincut_result = new_G.mincut(\"cactus\", \"bqueue\", True)\n",
    "        partitions = new_mincut_result[:-1]\n",
    "        cut_size = new_mincut_result[-1]\n",
    "\n",
    "        # count += 1\n",
    "\n",
    "    # nodes = [node_mapping[v] for v in cluster_df[cluster_df['cluster_name']==cluster_id]['node_id']]\n",
    "    # nodes = list(cluster_node_mapping[cluster_id])\n",
    "\n",
    "    # final_sub_graph = nk.graphtools.subgraphFromNodes(graph,nodes)\n",
    "    # final_cluster_nodes = list(final_sub_graph.iterNodes())\n",
    "    # # print(\"Cluster nodes = \", len(final_cluster_nodes))\n",
    "    # final_cluster_edges = list(final_sub_graph.iterEdges())\n",
    "    # final_G = PyGraph(final_cluster_nodes, final_cluster_edges)\n",
    "    # final_mincut_result = final_G.mincut(\"cactus\", \"bqueue\", True)\n",
    "\n",
    "    # final_partitions = final_mincut_result[:-1]\n",
    "    # final_cut_size = final_mincut_result[-1] \n",
    "    # print(cluster_id, \" - Required Mincut! - \", min_cut_required, \" - Final Mincut! - \", cut_size) \n",
    "    if(cut_size < min_cut_required):\n",
    "            print(\"Exception : \", cluster_id, min_cut_required, cut_size)\n",
    "            # print([len(partition) for partition in final_partitions])\n",
    "            # print(final_partitions)\n",
    " \n",
    "    "
   ]
  },
  {
   "cell_type": "code",
   "execution_count": null,
   "metadata": {},
   "outputs": [],
   "source": []
  }
 ],
 "metadata": {
  "kernelspec": {
   "display_name": "Python 3",
   "language": "python",
   "name": "python3"
  },
  "language_info": {
   "codemirror_mode": {
    "name": "ipython",
    "version": 3
   },
   "file_extension": ".py",
   "mimetype": "text/x-python",
   "name": "python",
   "nbconvert_exporter": "python",
   "pygments_lexer": "ipython3",
   "version": "3.12.2"
  },
  "orig_nbformat": 4
 },
 "nbformat": 4,
 "nbformat_minor": 2
}
